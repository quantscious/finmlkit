{
 "cells": [
  {
   "metadata": {},
   "cell_type": "markdown",
   "source": [
    "# FinMLKit Quick Start Guide\n",
    "\n",
    "This guide will walk you through the basic steps to get started with FinMLKit. We will cover the following topics:\n",
    "- Time and Dollar Bar construction\n",
    "    - OHLCV bars\n",
    "    - Corresponding Directional features\n",
    "    - Footprints\n",
    "- Volume Profile and Imbalance Indicators\n"
   ],
   "id": "665c5bf41f9bbbb5"
  },
  {
   "metadata": {},
   "cell_type": "markdown",
   "source": "# Necessary Imports",
   "id": "fdc90c47902dd6cb"
  },
  {
   "metadata": {},
   "cell_type": "code",
   "outputs": [],
   "execution_count": null,
   "source": "",
   "id": "8ea5850743bb01da"
  },
  {
   "metadata": {},
   "cell_type": "markdown",
   "source": "# Bar Construction",
   "id": "69d9b56c5a556909"
  },
  {
   "metadata": {},
   "cell_type": "code",
   "outputs": [],
   "execution_count": null,
   "source": "",
   "id": "2938a6828c76e995"
  },
  {
   "metadata": {},
   "cell_type": "markdown",
   "source": "# Volume Profile and Imbalance Indicators",
   "id": "4829f48f1cbbb368"
  },
  {
   "metadata": {},
   "cell_type": "code",
   "outputs": [],
   "execution_count": null,
   "source": "",
   "id": "5d3ae102652a9c7d"
  }
 ],
 "metadata": {
  "kernelspec": {
   "display_name": "Python 3",
   "language": "python",
   "name": "python3"
  },
  "language_info": {
   "codemirror_mode": {
    "name": "ipython",
    "version": 2
   },
   "file_extension": ".py",
   "mimetype": "text/x-python",
   "name": "python",
   "nbconvert_exporter": "python",
   "pygments_lexer": "ipython2",
   "version": "2.7.6"
  }
 },
 "nbformat": 4,
 "nbformat_minor": 5
}
