{
 "cells": [
  {
   "metadata": {},
   "cell_type": "markdown",
   "source": "# Performance Tests",
   "id": "19dfbd21b1700207"
  },
  {
   "metadata": {},
   "cell_type": "markdown",
   "source": [
    "## Time Bar Generation – `mlfinpy` vs `finmlkit`\n",
    "Here we compare the performance of `mlfinpy` and `finmlkit` libraries for generating 1-minute time bars from raw trade data."
   ],
   "id": "437ed2b79681c87f"
  },
  {
   "metadata": {},
   "cell_type": "code",
   "outputs": [],
   "execution_count": null,
   "source": [
    "# Install required libraries if needed\n",
    "!pip install mlfinpy finmlkit matplotlib\n"
   ],
   "id": "118052b28cb614c"
  },
  {
   "metadata": {},
   "cell_type": "code",
   "outputs": [],
   "execution_count": null,
   "source": [
    "# download 1 month of raw trades data from binance\n",
    "! curl -s \"https://data.binance.vision/data/futures/um/monthly/trades/BTCUSDT/BTCUSDT-trades-2025-07.zip\" -o \"BTCUSDT-trades-2025-07.zip\"\n",
    "# download the corresponding checksum\n",
    "! curl -s \"https://data.binance.vision/data/futures/um/monthly/trades/BTCUSDT/BTCUSDT-trades-2025-07.zip.CHECKSUM\" -o \"BTCUSDT-trades-2025-07.zip.CHECKSUM\"\n",
    "# verify the checksum (MacOS)\n",
    "! shasum -a 256 -c \"BTCUSDT-trades-2025-07.zip.CHECKSUM\"\n",
    "# verify the checksum (Linux)\n",
    "# sha256sum -c \"BTCUSDT-trades-2025-07.zip.CHECKSUM\"\n",
    "# unzip the downloaded file\n",
    "! unzip -o \"BTCUSDT-trades-2025-07.zip\"\n",
    "! ls\n"
   ],
   "id": "19a0a0dcf0646bc1"
  },
  {
   "metadata": {
    "ExecuteTime": {
     "end_time": "2025-08-05T10:53:51.826514Z",
     "start_time": "2025-08-05T10:53:51.342902Z"
    }
   },
   "cell_type": "code",
   "source": [
    "# Import necessary libraries\n",
    "import pandas as pd\n",
    "import time\n",
    "import matplotlib.pyplot as plt"
   ],
   "id": "a43558332200e5bd",
   "outputs": [],
   "execution_count": 1
  },
  {
   "metadata": {
    "ExecuteTime": {
     "end_time": "2025-08-05T10:54:06.495659Z",
     "start_time": "2025-08-05T10:53:51.874049Z"
    }
   },
   "cell_type": "code",
   "source": [
    "df = pd.read_csv(\"BTCUSDT-trades-2025-07.csv\")\n",
    "df.head()"
   ],
   "id": "ea9c963e49f421d5",
   "outputs": [
    {
     "data": {
      "text/plain": [
       "           id     price    qty    quote_qty           time  is_buyer_maker\n",
       "0  6440230568  107087.3  0.002     214.1746  1751328000018            True\n",
       "1  6440230569  107087.3  1.391  148958.4343  1751328004439            True\n",
       "2  6440230570  107087.3  3.450  369451.1850  1751328004439            True\n",
       "3  6440230571  107087.3  0.046    4926.0158  1751328004439            True\n",
       "4  6440230572  107087.3  0.005     535.4365  1751328004439            True"
      ],
      "text/html": [
       "<div>\n",
       "<style scoped>\n",
       "    .dataframe tbody tr th:only-of-type {\n",
       "        vertical-align: middle;\n",
       "    }\n",
       "\n",
       "    .dataframe tbody tr th {\n",
       "        vertical-align: top;\n",
       "    }\n",
       "\n",
       "    .dataframe thead th {\n",
       "        text-align: right;\n",
       "    }\n",
       "</style>\n",
       "<table border=\"1\" class=\"dataframe\">\n",
       "  <thead>\n",
       "    <tr style=\"text-align: right;\">\n",
       "      <th></th>\n",
       "      <th>id</th>\n",
       "      <th>price</th>\n",
       "      <th>qty</th>\n",
       "      <th>quote_qty</th>\n",
       "      <th>time</th>\n",
       "      <th>is_buyer_maker</th>\n",
       "    </tr>\n",
       "  </thead>\n",
       "  <tbody>\n",
       "    <tr>\n",
       "      <th>0</th>\n",
       "      <td>6440230568</td>\n",
       "      <td>107087.3</td>\n",
       "      <td>0.002</td>\n",
       "      <td>214.1746</td>\n",
       "      <td>1751328000018</td>\n",
       "      <td>True</td>\n",
       "    </tr>\n",
       "    <tr>\n",
       "      <th>1</th>\n",
       "      <td>6440230569</td>\n",
       "      <td>107087.3</td>\n",
       "      <td>1.391</td>\n",
       "      <td>148958.4343</td>\n",
       "      <td>1751328004439</td>\n",
       "      <td>True</td>\n",
       "    </tr>\n",
       "    <tr>\n",
       "      <th>2</th>\n",
       "      <td>6440230570</td>\n",
       "      <td>107087.3</td>\n",
       "      <td>3.450</td>\n",
       "      <td>369451.1850</td>\n",
       "      <td>1751328004439</td>\n",
       "      <td>True</td>\n",
       "    </tr>\n",
       "    <tr>\n",
       "      <th>3</th>\n",
       "      <td>6440230571</td>\n",
       "      <td>107087.3</td>\n",
       "      <td>0.046</td>\n",
       "      <td>4926.0158</td>\n",
       "      <td>1751328004439</td>\n",
       "      <td>True</td>\n",
       "    </tr>\n",
       "    <tr>\n",
       "      <th>4</th>\n",
       "      <td>6440230572</td>\n",
       "      <td>107087.3</td>\n",
       "      <td>0.005</td>\n",
       "      <td>535.4365</td>\n",
       "      <td>1751328004439</td>\n",
       "      <td>True</td>\n",
       "    </tr>\n",
       "  </tbody>\n",
       "</table>\n",
       "</div>"
      ]
     },
     "execution_count": 2,
     "metadata": {},
     "output_type": "execute_result"
    }
   ],
   "execution_count": 2
  },
  {
   "metadata": {},
   "cell_type": "markdown",
   "source": "## 1. Prepare Data for Both Libraries\n",
   "id": "48b8f1971a753664"
  },
  {
   "metadata": {
    "ExecuteTime": {
     "end_time": "2025-08-05T10:54:12.015239Z",
     "start_time": "2025-08-05T10:54:06.519149Z"
    }
   },
   "cell_type": "code",
   "source": [
    "# Prepare data for mlfinpy - requires [date_time, price, volume]\n",
    "mlfinpy_data = df[['time', 'price', 'qty']].copy()\n",
    "mlfinpy_data.columns = ['date_time', 'price', 'volume']\n",
    "mlfinpy_data['date_time'] = pd.to_datetime(mlfinpy_data['date_time'], unit='ms')\n",
    "\n",
    "# Display the prepared data\n",
    "mlfinpy_data.head()\n"
   ],
   "id": "f97bb07855035d46",
   "outputs": [
    {
     "data": {
      "text/plain": [
       "                date_time     price  volume\n",
       "0 2025-07-01 00:00:00.018  107087.3   0.002\n",
       "1 2025-07-01 00:00:04.439  107087.3   1.391\n",
       "2 2025-07-01 00:00:04.439  107087.3   3.450\n",
       "3 2025-07-01 00:00:04.439  107087.3   0.046\n",
       "4 2025-07-01 00:00:04.439  107087.3   0.005"
      ],
      "text/html": [
       "<div>\n",
       "<style scoped>\n",
       "    .dataframe tbody tr th:only-of-type {\n",
       "        vertical-align: middle;\n",
       "    }\n",
       "\n",
       "    .dataframe tbody tr th {\n",
       "        vertical-align: top;\n",
       "    }\n",
       "\n",
       "    .dataframe thead th {\n",
       "        text-align: right;\n",
       "    }\n",
       "</style>\n",
       "<table border=\"1\" class=\"dataframe\">\n",
       "  <thead>\n",
       "    <tr style=\"text-align: right;\">\n",
       "      <th></th>\n",
       "      <th>date_time</th>\n",
       "      <th>price</th>\n",
       "      <th>volume</th>\n",
       "    </tr>\n",
       "  </thead>\n",
       "  <tbody>\n",
       "    <tr>\n",
       "      <th>0</th>\n",
       "      <td>2025-07-01 00:00:00.018</td>\n",
       "      <td>107087.3</td>\n",
       "      <td>0.002</td>\n",
       "    </tr>\n",
       "    <tr>\n",
       "      <th>1</th>\n",
       "      <td>2025-07-01 00:00:04.439</td>\n",
       "      <td>107087.3</td>\n",
       "      <td>1.391</td>\n",
       "    </tr>\n",
       "    <tr>\n",
       "      <th>2</th>\n",
       "      <td>2025-07-01 00:00:04.439</td>\n",
       "      <td>107087.3</td>\n",
       "      <td>3.450</td>\n",
       "    </tr>\n",
       "    <tr>\n",
       "      <th>3</th>\n",
       "      <td>2025-07-01 00:00:04.439</td>\n",
       "      <td>107087.3</td>\n",
       "      <td>0.046</td>\n",
       "    </tr>\n",
       "    <tr>\n",
       "      <th>4</th>\n",
       "      <td>2025-07-01 00:00:04.439</td>\n",
       "      <td>107087.3</td>\n",
       "      <td>0.005</td>\n",
       "    </tr>\n",
       "  </tbody>\n",
       "</table>\n",
       "</div>"
      ]
     },
     "execution_count": 3,
     "metadata": {},
     "output_type": "execute_result"
    }
   ],
   "execution_count": 3
  },
  {
   "metadata": {
    "ExecuteTime": {
     "end_time": "2025-08-05T10:54:21.231126Z",
     "start_time": "2025-08-05T10:54:12.048526Z"
    }
   },
   "cell_type": "code",
   "source": [
    "# Prepare data for finmlkit - using TradesData class\n",
    "from finmlkit.bar.data_model import TradesData\n",
    "from finmlkit.bar.kit import TimeBarKit\n",
    "\n",
    "# Create a TradesData object\n",
    "trades = TradesData(df.time.values, df.price.values, df.qty.values,\n",
    "                    id=df.id.values, is_buyer_maker=df.is_buyer_maker.values,\n",
    "                    preprocess=True)\n",
    "\n",
    "print(f\"TradesData processed {len(trades.data):,} records\")\n",
    "trades.data.head()\n"
   ],
   "id": "8d58723a6410ba91",
   "outputs": [
    {
     "name": "stdout",
     "output_type": "stream",
     "text": [
      "finmlkit.bar.data_model:324 | INFO | Inferred timestamp format: ms\n",
      "finmlkit.bar.data_model:272 | INFO | Converting timestamp to nanoseconds units for processing...\n",
      "finmlkit.bar.data_model:169 | WARNING | None | Found 15,593 discontinuities in trade IDs. This indicates missing trades.\n",
      "finmlkit.bar.data_model:198 | INFO | Recorded 0 trade ID discontinuities with corresponding time intervals.\n",
      "finmlkit.bar.data_model:238 | INFO | Merging split trades (same timestamps) on same price level...\n",
      "finmlkit.bar.data_model:99 | INFO | TradesData prepared successfully.\n",
      "TradesData processed 39,171,929 records\n"
     ]
    },
    {
     "data": {
      "text/plain": [
       "                                   timestamp     price  amount  side\n",
       "datetime                                                            \n",
       "2025-07-01 00:00:00.018  1751328000018000000  107087.3   0.002    -1\n",
       "2025-07-01 00:00:04.439  1751328004439000000  107087.3  10.909    -1\n",
       "2025-07-01 00:00:04.439  1751328004439000000  107087.2   0.004    -1\n",
       "2025-07-01 00:00:04.439  1751328004439000000  107087.1   0.001    -1\n",
       "2025-07-01 00:00:04.439  1751328004439000000  107086.7   0.002    -1"
      ],
      "text/html": [
       "<div>\n",
       "<style scoped>\n",
       "    .dataframe tbody tr th:only-of-type {\n",
       "        vertical-align: middle;\n",
       "    }\n",
       "\n",
       "    .dataframe tbody tr th {\n",
       "        vertical-align: top;\n",
       "    }\n",
       "\n",
       "    .dataframe thead th {\n",
       "        text-align: right;\n",
       "    }\n",
       "</style>\n",
       "<table border=\"1\" class=\"dataframe\">\n",
       "  <thead>\n",
       "    <tr style=\"text-align: right;\">\n",
       "      <th></th>\n",
       "      <th>timestamp</th>\n",
       "      <th>price</th>\n",
       "      <th>amount</th>\n",
       "      <th>side</th>\n",
       "    </tr>\n",
       "    <tr>\n",
       "      <th>datetime</th>\n",
       "      <th></th>\n",
       "      <th></th>\n",
       "      <th></th>\n",
       "      <th></th>\n",
       "    </tr>\n",
       "  </thead>\n",
       "  <tbody>\n",
       "    <tr>\n",
       "      <th>2025-07-01 00:00:00.018</th>\n",
       "      <td>1751328000018000000</td>\n",
       "      <td>107087.3</td>\n",
       "      <td>0.002</td>\n",
       "      <td>-1</td>\n",
       "    </tr>\n",
       "    <tr>\n",
       "      <th>2025-07-01 00:00:04.439</th>\n",
       "      <td>1751328004439000000</td>\n",
       "      <td>107087.3</td>\n",
       "      <td>10.909</td>\n",
       "      <td>-1</td>\n",
       "    </tr>\n",
       "    <tr>\n",
       "      <th>2025-07-01 00:00:04.439</th>\n",
       "      <td>1751328004439000000</td>\n",
       "      <td>107087.2</td>\n",
       "      <td>0.004</td>\n",
       "      <td>-1</td>\n",
       "    </tr>\n",
       "    <tr>\n",
       "      <th>2025-07-01 00:00:04.439</th>\n",
       "      <td>1751328004439000000</td>\n",
       "      <td>107087.1</td>\n",
       "      <td>0.001</td>\n",
       "      <td>-1</td>\n",
       "    </tr>\n",
       "    <tr>\n",
       "      <th>2025-07-01 00:00:04.439</th>\n",
       "      <td>1751328004439000000</td>\n",
       "      <td>107086.7</td>\n",
       "      <td>0.002</td>\n",
       "      <td>-1</td>\n",
       "    </tr>\n",
       "  </tbody>\n",
       "</table>\n",
       "</div>"
      ]
     },
     "execution_count": 4,
     "metadata": {},
     "output_type": "execute_result"
    }
   ],
   "execution_count": 4
  },
  {
   "metadata": {},
   "cell_type": "markdown",
   "source": "## 2. Generate 1-Minute Time Bars with Both Libraries\n",
   "id": "3d9bb594350fec0f"
  },
  {
   "metadata": {
    "ExecuteTime": {
     "end_time": "2025-08-05T10:56:18.571658Z",
     "start_time": "2025-08-05T10:54:21.269886Z"
    }
   },
   "cell_type": "code",
   "source": [
    "# 2.1 Generate 1-minute time bars using mlfinpy\n",
    "from mlfinpy.data_structure import time_bars\n",
    "\n",
    "frequency = 'MIN'  # 1-minute bars\n",
    "start_time_mlfinpy = time.time()\n",
    "mlfinpy_1min_bars = time_bars.get_time_bars(mlfinpy_data, resolution=frequency)\n",
    "mlfinpy_time = time.time() - start_time_mlfinpy\n",
    "\n",
    "print(f\"\\nmlfinpy execution time: {mlfinpy_time:.4f} seconds\")\n",
    "print(f\"Generated {len(mlfinpy_1min_bars):,} time bars\")\n",
    "# mlfinpy_1min_bars.head()"
   ],
   "id": "e5c03abf3d4cc793",
   "outputs": [
    {
     "name": "stdout",
     "output_type": "stream",
     "text": [
      "Reading data in batches:\n",
      "Batch number: 0\n",
      "Batch number: 1\n",
      "Batch number: 2\n",
      "Batch number: 3\n",
      "Returning bars \n",
      "\n",
      "\n",
      "mlfinpy execution time: 116.7852 seconds\n",
      "Generated 44,639 time bars\n"
     ]
    }
   ],
   "execution_count": 5
  },
  {
   "metadata": {
    "ExecuteTime": {
     "end_time": "2025-08-05T10:56:20.504566Z",
     "start_time": "2025-08-05T10:56:18.606540Z"
    }
   },
   "cell_type": "code",
   "source": [
    "# 2.2 Generate 1-minute time bars using finmlkit\n",
    "start_time_finmlkit = time.time()\n",
    "tb1min_kit = TimeBarKit(trades, period=pd.Timedelta(minutes=1))\n",
    "tb1min_klines = tb1min_kit.build_ohlcv()\n",
    "finmlkit_time = time.time() - start_time_finmlkit\n",
    "\n",
    "print(f\"\\nfinmlkit execution time: {finmlkit_time:.4f} seconds\")\n",
    "print(f\"Generated {len(tb1min_klines):,} time bars\")"
   ],
   "id": "6c0b6149d9c8fc20",
   "outputs": [
    {
     "name": "stdout",
     "output_type": "stream",
     "text": [
      "finmlkit.bar.kit:27 | INFO | Time bar builder initialized with interval: 60.0 seconds.\n",
      "finmlkit.bar.base:70 | INFO | Calculating bar open tick indices and timestamps...\n",
      "finmlkit.bar.base:107 | INFO | OHLCV bar calculated successfully.\n",
      "finmlkit.bar.base:120 | INFO | OHLCV bar converted to DataFrame.\n",
      "\n",
      "finmlkit execution time: 1.8961 seconds\n",
      "Generated 44,640 time bars\n"
     ]
    }
   ],
   "execution_count": 6
  },
  {
   "metadata": {},
   "cell_type": "markdown",
   "source": "Quite impressive, right? But guess what, this can be **even faster**! The first run contains the compilation time, so let's run it again to see the real performance.",
   "id": "fe43f91380e22478"
  },
  {
   "metadata": {
    "ExecuteTime": {
     "end_time": "2025-08-05T10:57:07.587417Z",
     "start_time": "2025-08-05T10:57:07.411972Z"
    }
   },
   "cell_type": "code",
   "source": [
    "# 2.2 Generate 1-minute time bars using finmlkit\n",
    "start_time_finmlkit = time.time()\n",
    "tb1min_kit = TimeBarKit(trades, period=pd.Timedelta(minutes=1))\n",
    "tb1min_klines = tb1min_kit.build_ohlcv()\n",
    "finmlkit_time = time.time() - start_time_finmlkit\n",
    "\n",
    "print(f\"\\nfinmlkit execution time: {finmlkit_time:.4f} seconds\")\n",
    "print(f\"Generated {len(tb1min_klines):,} time bars\")\n",
    "#tb1min_klines.head()"
   ],
   "id": "6bee4391d292fa15",
   "outputs": [
    {
     "name": "stdout",
     "output_type": "stream",
     "text": [
      "finmlkit.bar.kit:27 | INFO | Time bar builder initialized with interval: 60.0 seconds.\n",
      "finmlkit.bar.base:70 | INFO | Calculating bar open tick indices and timestamps...\n",
      "finmlkit.bar.base:107 | INFO | OHLCV bar calculated successfully.\n",
      "finmlkit.bar.base:120 | INFO | OHLCV bar converted to DataFrame.\n",
      "\n",
      "finmlkit execution time: 0.1728 seconds\n",
      "Generated 44,640 time bars\n"
     ]
    }
   ],
   "execution_count": 9
  },
  {
   "metadata": {},
   "cell_type": "markdown",
   "source": "## 3. Performance Comparison\n",
   "id": "a48ba1278c22896a"
  },
  {
   "metadata": {
    "ExecuteTime": {
     "end_time": "2025-08-05T10:57:10.706247Z",
     "start_time": "2025-08-05T10:57:10.657487Z"
    }
   },
   "cell_type": "code",
   "source": [
    "# Compare execution time\n",
    "times = [mlfinpy_time, finmlkit_time]\n",
    "libraries = ['mlfinpy', 'finmlkit']\n",
    "\n",
    "plt.figure(figsize=(10, 6))\n",
    "plt.bar(libraries, times, color=['blue', 'green'])\n",
    "plt.title(f'Execution Time Comparison: 1-minute Bar Generation\\nSpeedup: {round(mlfinpy_time/finmlkit_time)}x', fontsize=15)\n",
    "plt.ylabel('Time (seconds)', fontsize=12)\n",
    "plt.xlabel('Library', fontsize=12)\n",
    "\n",
    "# Add time values on top of bars\n",
    "for i, v in enumerate(times):\n",
    "    plt.text(i, v + 0.1, f\"{v:.3f}s\", ha='center', fontweight='bold')\n",
    "\n",
    "plt.grid(axis='y', linestyle='--', alpha=0.7)\n",
    "plt.show()\n"
   ],
   "id": "d3aa3827729a8f3f",
   "outputs": [
    {
     "data": {
      "text/plain": [
       "<Figure size 1000x600 with 1 Axes>"
      ],
      "image/png": "[encoded data removed]"
     },
     "metadata": {},
     "output_type": "display_data"
    }
   ],
   "execution_count": 10
  },
  {
   "metadata": {},
   "cell_type": "code",
   "outputs": [],
   "execution_count": null,
   "source": "",
   "id": "56fbe09878272e10"
  }
 ],
 "metadata": {
  "kernelspec": {
   "display_name": "Python 3",
   "language": "python",
   "name": "python3"
  },
  "language_info": {
   "codemirror_mode": {
    "name": "ipython",
    "version": 2
   },
   "file_extension": ".py",
   "mimetype": "text/x-python",
   "name": "python",
   "nbconvert_exporter": "python",
   "pygments_lexer": "ipython2",
   "version": "2.7.6"
  }
 },
 "nbformat": 4,
 "nbformat_minor": 5
}
